{
 "cells": [
  {
   "cell_type": "code",
   "execution_count": 1,
   "metadata": {},
   "outputs": [],
   "source": [
    "import pandas as pd"
   ]
  },
  {
   "cell_type": "code",
   "execution_count": 2,
   "metadata": {},
   "outputs": [],
   "source": [
    "def build_dataframe(file_path):\n",
    "    data = []\n",
    "    with open(file_path, 'r') as file:\n",
    "        for line in file:\n",
    "            data.append(line.strip().split('\\t'))\n",
    "    df = pd.DataFrame(data)\n",
    "\n",
    "    df = df.rename(columns={0: 'file', 1: 'sentence', 2: 'position', 3: 'token', 4: 'negCue'})\n",
    "\n",
    "    #drop empty rows\n",
    "    df = df.drop(df[(df.file == '')].index)\n",
    "\n",
    "    return df"
   ]
  },
  {
   "cell_type": "code",
   "execution_count": 10,
   "metadata": {},
   "outputs": [],
   "source": [
    "train_df = build_dataframe(\"corpus/SEM-2012-SharedTask-CD-SCO-training-simple.v2.txt\")\n",
    "dev_df = build_dataframe(\"corpus/SEM-2012-SharedTask-CD-SCO-dev-simple.v2.txt\")\n",
    "\n",
    "test1_df = build_dataframe(\"corpus/SEM-2012-SharedTask-CD-SCO-test-circle.txt\")\n",
    "test2_df = build_dataframe(\"corpus/SEM-2012-SharedTask-CD-SCO-test-cardboard.txt\")\n"
   ]
  },
  {
   "cell_type": "code",
   "execution_count": 11,
   "metadata": {},
   "outputs": [
    {
     "name": "stdout",
     "output_type": "stream",
     "text": [
      "##############################\n",
      "-Train DF:\n",
      "\tO: 64448\n",
      "\tB-NEG: 987\n",
      "\tI-NEG: 16\n",
      "##############################\n",
      "-Dev DF:\n",
      "\tO: 13388\n",
      "\tB-NEG: 176\n",
      "\tI-NEG: 3\n",
      "##############################\n",
      "-Test1 DF:\n",
      "\tO: 8893\n",
      "\tB-NEG: 135\n",
      "\tI-NEG: 4\n",
      "-Test1 DF:\n",
      "\tO: 10049\n",
      "\tB-NEG: 134\n",
      "\tI-NEG: 1\n"
     ]
    }
   ],
   "source": [
    "print(\"##############################\")\n",
    "print(\"-Train DF:\")\n",
    "\n",
    "print(f\"\\tO: {len(train_df.loc[(train_df['negCue'] =='O')])}\")\n",
    "print(f\"\\tB-NEG: {len(train_df.loc[(train_df['negCue'] =='B-NEG')])}\")\n",
    "print(f\"\\tI-NEG: {len(train_df.loc[(train_df['negCue'] =='I-NEG')])}\")\n",
    "\n",
    "print(\"##############################\")\n",
    "print(\"-Dev DF:\")\n",
    "print(f\"\\tO: {len(dev_df.loc[(dev_df['negCue'] =='O')])}\")\n",
    "print(f\"\\tB-NEG: {len(dev_df.loc[(dev_df['negCue'] =='B-NEG')])}\")\n",
    "print(f\"\\tI-NEG: {len(dev_df.loc[(dev_df['negCue'] =='I-NEG')])}\")\n",
    "\n",
    "print(\"##############################\")\n",
    "print(\"-Test1 DF:\")\n",
    "print(f\"\\tO: {len(test1_df.loc[(test1_df['negCue'] =='O')])}\")\n",
    "print(f\"\\tB-NEG: {len(test1_df.loc[(test1_df['negCue'] =='B-NEG')])}\")\n",
    "print(f\"\\tI-NEG: {len(test1_df.loc[(test1_df['negCue'] =='I-NEG')])}\")\n",
    "\n",
    "print(\"-Test1 DF:\")\n",
    "print(f\"\\tO: {len(test2_df.loc[(test2_df['negCue'] =='O')])}\")\n",
    "print(f\"\\tB-NEG: {len(test2_df.loc[(test2_df['negCue'] =='B-NEG')])}\")\n",
    "print(f\"\\tI-NEG: {len(test2_df.loc[(test2_df['negCue'] =='I-NEG')])}\")"
   ]
  }
 ],
 "metadata": {
  "kernelspec": {
   "display_name": "Python 3",
   "language": "python",
   "name": "python3"
  },
  "language_info": {
   "codemirror_mode": {
    "name": "ipython",
    "version": 3
   },
   "file_extension": ".py",
   "mimetype": "text/x-python",
   "name": "python",
   "nbconvert_exporter": "python",
   "pygments_lexer": "ipython3",
   "version": "3.8.10"
  },
  "orig_nbformat": 4
 },
 "nbformat": 4,
 "nbformat_minor": 2
}
